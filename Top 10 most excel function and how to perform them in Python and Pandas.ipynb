{
 "cells": [
  {
   "cell_type": "markdown",
   "metadata": {},
   "source": [
    "SUM, COUNT and AVERAGE\n",
    "IF Statements\n",
    "SUMIF, COUNTIF and AVERAGEIF\n",
    "VLOOKUP\n",
    "CONCATENATE\n",
    "MAX and MIN\n",
    "AND\n",
    "PROPER\n",
    "CONDITIONAL FORMATING\n",
    "INDEX and MATCH"
   ]
  },
  {
   "cell_type": "code",
   "execution_count": 1,
   "metadata": {},
   "outputs": [],
   "source": [
    "import pandas as pd\n",
    "heroes = pd.read_csv(\"C:\\\\Users\\\\paulc\\\\OneDrive\\\\Documents\\\\heroes_information_condensed.csv\")"
   ]
  },
  {
   "cell_type": "code",
   "execution_count": 2,
   "metadata": {},
   "outputs": [
    {
     "name": "stdout",
     "output_type": "stream",
     "text": [
      "    Unnamed: 0               name  Gender Eye color     Hair color  Height  \\\n",
      "0            1  Alfred Pennyworth    Male      blue          Black     178   \n",
      "1            2            Ant-Man    Male      blue          Blond     211   \n",
      "2            3            Batgirl  Female     green            Red     170   \n",
      "3            4             Batman    Male      blue          black     188   \n",
      "4            5        Black Widow  Female     green         Auburn     170   \n",
      "5            6    Captain America    Male      blue          blond     188   \n",
      "6            7            Cyclops    Male     brown          Brown     191   \n",
      "7            8        Darth Vader    Male    yellow        No Hair     198   \n",
      "8            9           Deadpool    Male     brown        No Hair     188   \n",
      "9           10           Deadshot    Male     brown          Brown     185   \n",
      "10          11        Doctor Doom    Male     brown          Brown     201   \n",
      "11          12     Doctor Octopus    Male     brown          Brown     175   \n",
      "12          13              Flash    Male      blue  Brown / White     180   \n",
      "13          14      Gorilla Grodd    Male    yellow          Black     198   \n",
      "14          15       Green Goblin    Male      blue         Auburn     180   \n",
      "\n",
      "   Alignment  Weight  \n",
      "0       good      72  \n",
      "1       good     122  \n",
      "2       good      57  \n",
      "3       good      95  \n",
      "4       good      59  \n",
      "5       good     108  \n",
      "6       good      88  \n",
      "7        bad     135  \n",
      "8    neutral      95  \n",
      "9        bad      91  \n",
      "10       bad     187  \n",
      "11       bad     110  \n",
      "12      good      81  \n",
      "13       bad     270  \n",
      "14       bad      83  \n"
     ]
    }
   ],
   "source": [
    "print(heroes.head(15))\n"
   ]
  },
  {
   "cell_type": "code",
   "execution_count": 3,
   "metadata": {},
   "outputs": [
    {
     "data": {
      "text/plain": [
       "Index(['Unnamed: 0', 'name', 'Gender', 'Eye color', 'Hair color', 'Height',\n",
       "       'Alignment', 'Weight'],\n",
       "      dtype='object')"
      ]
     },
     "execution_count": 3,
     "metadata": {},
     "output_type": "execute_result"
    }
   ],
   "source": [
    "heroes.columns"
   ]
  },
  {
   "cell_type": "code",
   "execution_count": 4,
   "metadata": {},
   "outputs": [
    {
     "data": {
      "text/plain": [
       "7236"
      ]
     },
     "execution_count": 4,
     "metadata": {},
     "output_type": "execute_result"
    }
   ],
   "source": [
    "heroes['Height'].sum()"
   ]
  },
  {
   "cell_type": "code",
   "execution_count": 5,
   "metadata": {},
   "outputs": [
    {
     "data": {
      "text/plain": [
       "36"
      ]
     },
     "execution_count": 5,
     "metadata": {},
     "output_type": "execute_result"
    }
   ],
   "source": [
    "heroes['Height'].count()"
   ]
  },
  {
   "cell_type": "code",
   "execution_count": 6,
   "metadata": {},
   "outputs": [
    {
     "data": {
      "text/plain": [
       "201.0"
      ]
     },
     "execution_count": 6,
     "metadata": {},
     "output_type": "execute_result"
    }
   ],
   "source": [
    "heroes['Height'].mean()"
   ]
  },
  {
   "cell_type": "code",
   "execution_count": 7,
   "metadata": {},
   "outputs": [
    {
     "name": "stdout",
     "output_type": "stream",
     "text": [
      "    Unnamed: 0               name  Gender Eye color     Hair color  Height  \\\n",
      "0            1  Alfred Pennyworth    Male      blue          Black     178   \n",
      "1            2            Ant-Man    Male      blue          Blond     211   \n",
      "2            3            Batgirl  Female     green            Red     170   \n",
      "3            4             Batman    Male      blue          black     188   \n",
      "4            5        Black Widow  Female     green         Auburn     170   \n",
      "5            6    Captain America    Male      blue          blond     188   \n",
      "6            7            Cyclops    Male     brown          Brown     191   \n",
      "7            8        Darth Vader    Male    yellow        No Hair     198   \n",
      "8            9           Deadpool    Male     brown        No Hair     188   \n",
      "9           10           Deadshot    Male     brown          Brown     185   \n",
      "10          11        Doctor Doom    Male     brown          Brown     201   \n",
      "11          12     Doctor Octopus    Male     brown          Brown     175   \n",
      "12          13              Flash    Male      blue  Brown / White     180   \n",
      "13          14      Gorilla Grodd    Male    yellow          Black     198   \n",
      "14          15       Green Goblin    Male      blue         Auburn     180   \n",
      "\n",
      "   Alignment  Weight compared to average height  \n",
      "0       good      72       Below average height  \n",
      "1       good     122       Above average height  \n",
      "2       good      57       Below average height  \n",
      "3       good      95       Below average height  \n",
      "4       good      59       Below average height  \n",
      "5       good     108       Below average height  \n",
      "6       good      88       Below average height  \n",
      "7        bad     135       Below average height  \n",
      "8    neutral      95       Below average height  \n",
      "9        bad      91       Below average height  \n",
      "10       bad     187             Average height  \n",
      "11       bad     110       Below average height  \n",
      "12      good      81       Below average height  \n",
      "13       bad     270       Below average height  \n",
      "14       bad      83       Below average height  \n"
     ]
    }
   ],
   "source": [
    "heroes.loc[heroes.Height > heroes['Height'].mean(), 'compared to average height'] = 'Above average height'\n",
    "heroes.loc[heroes.Height < heroes['Height'].mean(), 'compared to average height'] = 'Below average height'\n",
    "heroes.loc[heroes.Height == heroes['Height'].mean(), 'compared to average height'] = 'Average height'\n",
    "print(heroes.head(15))"
   ]
  },
  {
   "cell_type": "code",
   "execution_count": 8,
   "metadata": {},
   "outputs": [
    {
     "data": {
      "text/plain": [
       "Alignment\n",
       "bad        3100\n",
       "good       3948\n",
       "neutral     188\n",
       "Name: Height, dtype: int64"
      ]
     },
     "execution_count": 8,
     "metadata": {},
     "output_type": "execute_result"
    }
   ],
   "source": [
    "heroes.groupby('Alignment')['Height'].sum()"
   ]
  },
  {
   "cell_type": "code",
   "execution_count": 9,
   "metadata": {},
   "outputs": [
    {
     "data": {
      "text/plain": [
       "Alignment\n",
       "bad        16\n",
       "good       19\n",
       "neutral     1\n",
       "Name: Height, dtype: int64"
      ]
     },
     "execution_count": 9,
     "metadata": {},
     "output_type": "execute_result"
    }
   ],
   "source": [
    "heroes.groupby('Alignment')['Height'].count()"
   ]
  },
  {
   "cell_type": "code",
   "execution_count": 10,
   "metadata": {},
   "outputs": [
    {
     "data": {
      "text/plain": [
       "Alignment\n",
       "bad        193.750000\n",
       "good       207.789474\n",
       "neutral    188.000000\n",
       "Name: Height, dtype: float64"
      ]
     },
     "execution_count": 10,
     "metadata": {},
     "output_type": "execute_result"
    }
   ],
   "source": [
    "heroes.groupby('Alignment')['Height'].mean()"
   ]
  },
  {
   "cell_type": "code",
   "execution_count": 11,
   "metadata": {},
   "outputs": [
    {
     "data": {
      "text/plain": [
       "3948"
      ]
     },
     "execution_count": 11,
     "metadata": {},
     "output_type": "execute_result"
    }
   ],
   "source": [
    "heroes.loc[heroes.Alignment == 'good', 'Height'].sum()"
   ]
  },
  {
   "cell_type": "code",
   "execution_count": 12,
   "metadata": {},
   "outputs": [
    {
     "data": {
      "text/plain": [
       "19"
      ]
     },
     "execution_count": 12,
     "metadata": {},
     "output_type": "execute_result"
    }
   ],
   "source": [
    "heroes.loc[heroes.Alignment == 'good', 'Height'].count()"
   ]
  },
  {
   "cell_type": "code",
   "execution_count": 13,
   "metadata": {},
   "outputs": [
    {
     "data": {
      "text/plain": [
       "207.78947368421052"
      ]
     },
     "execution_count": 13,
     "metadata": {},
     "output_type": "execute_result"
    }
   ],
   "source": [
    "heroes.loc[heroes.Alignment == 'good', 'Height'].mean()"
   ]
  },
  {
   "cell_type": "code",
   "execution_count": null,
   "metadata": {},
   "outputs": [],
   "source": []
  },
  {
   "cell_type": "code",
   "execution_count": 14,
   "metadata": {},
   "outputs": [],
   "source": [
    "heroes2_list = ('Nightcrawler', 'Superman', 'Thor', 'Killer Croc', 'Supergirl')\n",
    "heroes2 = pd.DataFrame(columns = ['name'])\n",
    "heroes2['name'] = heroes2_list"
   ]
  },
  {
   "cell_type": "code",
   "execution_count": 15,
   "metadata": {},
   "outputs": [
    {
     "name": "stdout",
     "output_type": "stream",
     "text": [
      "           name\n",
      "0  Nightcrawler\n",
      "1      Superman\n",
      "2          Thor\n",
      "3   Killer Croc\n",
      "4     Supergirl\n"
     ]
    }
   ],
   "source": [
    "print(heroes2)"
   ]
  },
  {
   "cell_type": "code",
   "execution_count": 16,
   "metadata": {},
   "outputs": [
    {
     "data": {
      "text/html": [
       "<div>\n",
       "<style scoped>\n",
       "    .dataframe tbody tr th:only-of-type {\n",
       "        vertical-align: middle;\n",
       "    }\n",
       "\n",
       "    .dataframe tbody tr th {\n",
       "        vertical-align: top;\n",
       "    }\n",
       "\n",
       "    .dataframe thead th {\n",
       "        text-align: right;\n",
       "    }\n",
       "</style>\n",
       "<table border=\"1\" class=\"dataframe\">\n",
       "  <thead>\n",
       "    <tr style=\"text-align: right;\">\n",
       "      <th></th>\n",
       "      <th>Unnamed: 0</th>\n",
       "      <th>name</th>\n",
       "      <th>Gender</th>\n",
       "      <th>Eye color</th>\n",
       "      <th>Hair color</th>\n",
       "      <th>Height</th>\n",
       "      <th>Alignment</th>\n",
       "      <th>Weight</th>\n",
       "      <th>compared to average height</th>\n",
       "    </tr>\n",
       "  </thead>\n",
       "  <tbody>\n",
       "    <tr>\n",
       "      <th>0</th>\n",
       "      <td>20</td>\n",
       "      <td>Killer Croc</td>\n",
       "      <td>Male</td>\n",
       "      <td>red</td>\n",
       "      <td>No Hair</td>\n",
       "      <td>244</td>\n",
       "      <td>bad</td>\n",
       "      <td>356</td>\n",
       "      <td>Above average height</td>\n",
       "    </tr>\n",
       "    <tr>\n",
       "      <th>1</th>\n",
       "      <td>23</td>\n",
       "      <td>Nightcrawler</td>\n",
       "      <td>Male</td>\n",
       "      <td>yellow</td>\n",
       "      <td>Indigo</td>\n",
       "      <td>175</td>\n",
       "      <td>good</td>\n",
       "      <td>88</td>\n",
       "      <td>Below average height</td>\n",
       "    </tr>\n",
       "    <tr>\n",
       "      <th>2</th>\n",
       "      <td>31</td>\n",
       "      <td>Supergirl</td>\n",
       "      <td>Female</td>\n",
       "      <td>blue</td>\n",
       "      <td>Blond</td>\n",
       "      <td>165</td>\n",
       "      <td>good</td>\n",
       "      <td>54</td>\n",
       "      <td>Below average height</td>\n",
       "    </tr>\n",
       "    <tr>\n",
       "      <th>3</th>\n",
       "      <td>32</td>\n",
       "      <td>Superman</td>\n",
       "      <td>Male</td>\n",
       "      <td>blue</td>\n",
       "      <td>Black</td>\n",
       "      <td>191</td>\n",
       "      <td>good</td>\n",
       "      <td>101</td>\n",
       "      <td>Below average height</td>\n",
       "    </tr>\n",
       "    <tr>\n",
       "      <th>4</th>\n",
       "      <td>33</td>\n",
       "      <td>Thor</td>\n",
       "      <td>Male</td>\n",
       "      <td>blue</td>\n",
       "      <td>Blond</td>\n",
       "      <td>198</td>\n",
       "      <td>good</td>\n",
       "      <td>288</td>\n",
       "      <td>Below average height</td>\n",
       "    </tr>\n",
       "  </tbody>\n",
       "</table>\n",
       "</div>"
      ],
      "text/plain": [
       "   Unnamed: 0          name  Gender Eye color Hair color  Height Alignment  \\\n",
       "0          20   Killer Croc    Male       red    No Hair     244       bad   \n",
       "1          23  Nightcrawler    Male    yellow     Indigo     175      good   \n",
       "2          31     Supergirl  Female      blue      Blond     165      good   \n",
       "3          32      Superman    Male      blue      Black     191      good   \n",
       "4          33          Thor    Male      blue      Blond     198      good   \n",
       "\n",
       "   Weight compared to average height  \n",
       "0     356       Above average height  \n",
       "1      88       Below average height  \n",
       "2      54       Below average height  \n",
       "3     101       Below average height  \n",
       "4     288       Below average height  "
      ]
     },
     "execution_count": 16,
     "metadata": {},
     "output_type": "execute_result"
    }
   ],
   "source": [
    "pd.merge(heroes, heroes2)"
   ]
  },
  {
   "cell_type": "code",
   "execution_count": 17,
   "metadata": {},
   "outputs": [],
   "source": [
    "heroes['summarised'] = heroes['name'] + ' has ' + heroes['Eye color'] + ' color eyes and ' + heroes['Hair color'] + ' hair'"
   ]
  },
  {
   "cell_type": "code",
   "execution_count": 18,
   "metadata": {},
   "outputs": [
    {
     "name": "stdout",
     "output_type": "stream",
     "text": [
      "0     Alfred Pennyworth has blue color eyes and Blac...\n",
      "1            Ant-Man has blue color eyes and Blond hair\n",
      "2             Batgirl has green color eyes and Red hair\n",
      "3             Batman has blue color eyes and black hair\n",
      "4      Black Widow has green color eyes and Auburn hair\n",
      "5     Captain America has blue color eyes and blond ...\n",
      "6           Cyclops has brown color eyes and Brown hair\n",
      "7     Darth Vader has yellow color eyes and No Hair ...\n",
      "8        Deadpool has brown color eyes and No Hair hair\n",
      "9          Deadshot has brown color eyes and Brown hair\n",
      "10      Doctor Doom has brown color eyes and Brown hair\n",
      "11    Doctor Octopus has brown color eyes and Brown ...\n",
      "12     Flash has blue color eyes and Brown / White hair\n",
      "13    Gorilla Grodd has yellow color eyes and Black ...\n",
      "14     Green Goblin has blue color eyes and Auburn hair\n",
      "15               Groot has yellow color eyes and - hair\n",
      "16           Hawkeye has blue color eyes and Blond hair\n",
      "17          Iron Man has blue color eyes and Black hair\n",
      "18            Joker has green color eyes and Green hair\n",
      "19      Killer Croc has red color eyes and No Hair hair\n",
      "20         Kingpin has blue color eyes and No Hair hair\n",
      "21     Lex Luthor has green color eyes and No Hair hair\n",
      "22    Nightcrawler has yellow color eyes and Indigo ...\n",
      "23         Poison Ivy has green color eyes and Red hair\n",
      "24              Pyro has blue color eyes and Blond hair\n",
      "25      Ra's Al Ghul has green color eyes and Grey hair\n",
      "26             Robin has blue color eyes and Black hair\n",
      "27    Rocket Raccoon has brown color eyes and Brown ...\n",
      "28       Sabretooth has amber color eyes and Blond hair\n",
      "29       Spider-Girl has blue color eyes and Brown hair\n",
      "30         Supergirl has blue color eyes and Blond hair\n",
      "31          Superman has blue color eyes and Black hair\n",
      "32              Thor has blue color eyes and Blond hair\n",
      "33                 Ultron has red color eyes and - hair\n",
      "34    Venom has blue color eyes and Strawberry Blond...\n",
      "35      Wonder Woman has blue color eyes and Black hair\n",
      "Name: summarised, dtype: object\n"
     ]
    }
   ],
   "source": [
    "print(heroes['summarised'])"
   ]
  },
  {
   "cell_type": "code",
   "execution_count": 19,
   "metadata": {},
   "outputs": [
    {
     "data": {
      "text/plain": [
       "701"
      ]
     },
     "execution_count": 19,
     "metadata": {},
     "output_type": "execute_result"
    }
   ],
   "source": [
    "heroes['Height'].max()"
   ]
  },
  {
   "cell_type": "code",
   "execution_count": 20,
   "metadata": {},
   "outputs": [
    {
     "data": {
      "text/plain": [
       "122"
      ]
     },
     "execution_count": 20,
     "metadata": {},
     "output_type": "execute_result"
    }
   ],
   "source": [
    "heroes['Height'].min()"
   ]
  },
  {
   "cell_type": "code",
   "execution_count": 21,
   "metadata": {},
   "outputs": [
    {
     "name": "stdout",
     "output_type": "stream",
     "text": [
      "0     Alfred Pennyworth Has Blue Color Eyes And Blac...\n",
      "1            Ant-Man Has Blue Color Eyes And Blond Hair\n",
      "2             Batgirl Has Green Color Eyes And Red Hair\n",
      "3             Batman Has Blue Color Eyes And Black Hair\n",
      "4      Black Widow Has Green Color Eyes And Auburn Hair\n",
      "5     Captain America Has Blue Color Eyes And Blond ...\n",
      "6           Cyclops Has Brown Color Eyes And Brown Hair\n",
      "7     Darth Vader Has Yellow Color Eyes And No Hair ...\n",
      "8        Deadpool Has Brown Color Eyes And No Hair Hair\n",
      "9          Deadshot Has Brown Color Eyes And Brown Hair\n",
      "10      Doctor Doom Has Brown Color Eyes And Brown Hair\n",
      "11    Doctor Octopus Has Brown Color Eyes And Brown ...\n",
      "12     Flash Has Blue Color Eyes And Brown / White Hair\n",
      "13    Gorilla Grodd Has Yellow Color Eyes And Black ...\n",
      "14     Green Goblin Has Blue Color Eyes And Auburn Hair\n",
      "15               Groot Has Yellow Color Eyes And - Hair\n",
      "16           Hawkeye Has Blue Color Eyes And Blond Hair\n",
      "17          Iron Man Has Blue Color Eyes And Black Hair\n",
      "18            Joker Has Green Color Eyes And Green Hair\n",
      "19      Killer Croc Has Red Color Eyes And No Hair Hair\n",
      "20         Kingpin Has Blue Color Eyes And No Hair Hair\n",
      "21     Lex Luthor Has Green Color Eyes And No Hair Hair\n",
      "22    Nightcrawler Has Yellow Color Eyes And Indigo ...\n",
      "23         Poison Ivy Has Green Color Eyes And Red Hair\n",
      "24              Pyro Has Blue Color Eyes And Blond Hair\n",
      "25      Ra'S Al Ghul Has Green Color Eyes And Grey Hair\n",
      "26             Robin Has Blue Color Eyes And Black Hair\n",
      "27    Rocket Raccoon Has Brown Color Eyes And Brown ...\n",
      "28       Sabretooth Has Amber Color Eyes And Blond Hair\n",
      "29       Spider-Girl Has Blue Color Eyes And Brown Hair\n",
      "30         Supergirl Has Blue Color Eyes And Blond Hair\n",
      "31          Superman Has Blue Color Eyes And Black Hair\n",
      "32              Thor Has Blue Color Eyes And Blond Hair\n",
      "33                 Ultron Has Red Color Eyes And - Hair\n",
      "34    Venom Has Blue Color Eyes And Strawberry Blond...\n",
      "35      Wonder Woman Has Blue Color Eyes And Black Hair\n",
      "Name: summarised, dtype: object\n"
     ]
    }
   ],
   "source": [
    "heroes['summarised'] = heroes['summarised'].str.title()\n",
    "print(heroes['summarised'])"
   ]
  },
  {
   "cell_type": "code",
   "execution_count": 22,
   "metadata": {},
   "outputs": [
    {
     "data": {
      "text/html": [
       "<style  type=\"text/css\" >\n",
       "    #T_bff181a2_46f2_11e9_87f7_08780897b37drow0_col6 {\n",
       "            color:  green;\n",
       "        }    #T_bff181a2_46f2_11e9_87f7_08780897b37drow1_col6 {\n",
       "            color:  green;\n",
       "        }    #T_bff181a2_46f2_11e9_87f7_08780897b37drow2_col6 {\n",
       "            color:  green;\n",
       "        }    #T_bff181a2_46f2_11e9_87f7_08780897b37drow3_col6 {\n",
       "            color:  green;\n",
       "        }    #T_bff181a2_46f2_11e9_87f7_08780897b37drow4_col6 {\n",
       "            color:  green;\n",
       "        }    #T_bff181a2_46f2_11e9_87f7_08780897b37drow5_col6 {\n",
       "            color:  green;\n",
       "        }    #T_bff181a2_46f2_11e9_87f7_08780897b37drow6_col6 {\n",
       "            color:  green;\n",
       "        }    #T_bff181a2_46f2_11e9_87f7_08780897b37drow7_col6 {\n",
       "            color:  red;\n",
       "        }    #T_bff181a2_46f2_11e9_87f7_08780897b37drow8_col6 {\n",
       "            color:  black;\n",
       "        }    #T_bff181a2_46f2_11e9_87f7_08780897b37drow9_col6 {\n",
       "            color:  red;\n",
       "        }    #T_bff181a2_46f2_11e9_87f7_08780897b37drow10_col6 {\n",
       "            color:  red;\n",
       "        }    #T_bff181a2_46f2_11e9_87f7_08780897b37drow11_col6 {\n",
       "            color:  red;\n",
       "        }    #T_bff181a2_46f2_11e9_87f7_08780897b37drow12_col6 {\n",
       "            color:  green;\n",
       "        }    #T_bff181a2_46f2_11e9_87f7_08780897b37drow13_col6 {\n",
       "            color:  red;\n",
       "        }    #T_bff181a2_46f2_11e9_87f7_08780897b37drow14_col6 {\n",
       "            color:  red;\n",
       "        }    #T_bff181a2_46f2_11e9_87f7_08780897b37drow15_col6 {\n",
       "            color:  green;\n",
       "        }    #T_bff181a2_46f2_11e9_87f7_08780897b37drow16_col6 {\n",
       "            color:  green;\n",
       "        }    #T_bff181a2_46f2_11e9_87f7_08780897b37drow17_col6 {\n",
       "            color:  green;\n",
       "        }    #T_bff181a2_46f2_11e9_87f7_08780897b37drow18_col6 {\n",
       "            color:  red;\n",
       "        }    #T_bff181a2_46f2_11e9_87f7_08780897b37drow19_col6 {\n",
       "            color:  red;\n",
       "        }    #T_bff181a2_46f2_11e9_87f7_08780897b37drow20_col6 {\n",
       "            color:  red;\n",
       "        }    #T_bff181a2_46f2_11e9_87f7_08780897b37drow21_col6 {\n",
       "            color:  red;\n",
       "        }    #T_bff181a2_46f2_11e9_87f7_08780897b37drow22_col6 {\n",
       "            color:  green;\n",
       "        }    #T_bff181a2_46f2_11e9_87f7_08780897b37drow23_col6 {\n",
       "            color:  red;\n",
       "        }    #T_bff181a2_46f2_11e9_87f7_08780897b37drow24_col6 {\n",
       "            color:  red;\n",
       "        }    #T_bff181a2_46f2_11e9_87f7_08780897b37drow25_col6 {\n",
       "            color:  red;\n",
       "        }    #T_bff181a2_46f2_11e9_87f7_08780897b37drow26_col6 {\n",
       "            color:  green;\n",
       "        }    #T_bff181a2_46f2_11e9_87f7_08780897b37drow27_col6 {\n",
       "            color:  green;\n",
       "        }    #T_bff181a2_46f2_11e9_87f7_08780897b37drow28_col6 {\n",
       "            color:  red;\n",
       "        }    #T_bff181a2_46f2_11e9_87f7_08780897b37drow29_col6 {\n",
       "            color:  green;\n",
       "        }    #T_bff181a2_46f2_11e9_87f7_08780897b37drow30_col6 {\n",
       "            color:  green;\n",
       "        }    #T_bff181a2_46f2_11e9_87f7_08780897b37drow31_col6 {\n",
       "            color:  green;\n",
       "        }    #T_bff181a2_46f2_11e9_87f7_08780897b37drow32_col6 {\n",
       "            color:  green;\n",
       "        }    #T_bff181a2_46f2_11e9_87f7_08780897b37drow33_col6 {\n",
       "            color:  red;\n",
       "        }    #T_bff181a2_46f2_11e9_87f7_08780897b37drow34_col6 {\n",
       "            color:  red;\n",
       "        }    #T_bff181a2_46f2_11e9_87f7_08780897b37drow35_col6 {\n",
       "            color:  green;\n",
       "        }</style>  \n",
       "<table id=\"T_bff181a2_46f2_11e9_87f7_08780897b37d\" > \n",
       "<thead>    <tr> \n",
       "        <th class=\"blank level0\" ></th> \n",
       "        <th class=\"col_heading level0 col0\" >Unnamed: 0</th> \n",
       "        <th class=\"col_heading level0 col1\" >name</th> \n",
       "        <th class=\"col_heading level0 col2\" >Gender</th> \n",
       "        <th class=\"col_heading level0 col3\" >Eye color</th> \n",
       "        <th class=\"col_heading level0 col4\" >Hair color</th> \n",
       "        <th class=\"col_heading level0 col5\" >Height</th> \n",
       "        <th class=\"col_heading level0 col6\" >Alignment</th> \n",
       "        <th class=\"col_heading level0 col7\" >Weight</th> \n",
       "        <th class=\"col_heading level0 col8\" >compared to average height</th> \n",
       "        <th class=\"col_heading level0 col9\" >summarised</th> \n",
       "    </tr></thead> \n",
       "<tbody>    <tr> \n",
       "        <th id=\"T_bff181a2_46f2_11e9_87f7_08780897b37dlevel0_row0\" class=\"row_heading level0 row0\" >0</th> \n",
       "        <td id=\"T_bff181a2_46f2_11e9_87f7_08780897b37drow0_col0\" class=\"data row0 col0\" >1</td> \n",
       "        <td id=\"T_bff181a2_46f2_11e9_87f7_08780897b37drow0_col1\" class=\"data row0 col1\" >Alfred Pennyworth</td> \n",
       "        <td id=\"T_bff181a2_46f2_11e9_87f7_08780897b37drow0_col2\" class=\"data row0 col2\" >Male</td> \n",
       "        <td id=\"T_bff181a2_46f2_11e9_87f7_08780897b37drow0_col3\" class=\"data row0 col3\" >blue</td> \n",
       "        <td id=\"T_bff181a2_46f2_11e9_87f7_08780897b37drow0_col4\" class=\"data row0 col4\" >Black</td> \n",
       "        <td id=\"T_bff181a2_46f2_11e9_87f7_08780897b37drow0_col5\" class=\"data row0 col5\" >178</td> \n",
       "        <td id=\"T_bff181a2_46f2_11e9_87f7_08780897b37drow0_col6\" class=\"data row0 col6\" >good</td> \n",
       "        <td id=\"T_bff181a2_46f2_11e9_87f7_08780897b37drow0_col7\" class=\"data row0 col7\" >72</td> \n",
       "        <td id=\"T_bff181a2_46f2_11e9_87f7_08780897b37drow0_col8\" class=\"data row0 col8\" >Below average height</td> \n",
       "        <td id=\"T_bff181a2_46f2_11e9_87f7_08780897b37drow0_col9\" class=\"data row0 col9\" >Alfred Pennyworth Has Blue Color Eyes And Black Hair</td> \n",
       "    </tr>    <tr> \n",
       "        <th id=\"T_bff181a2_46f2_11e9_87f7_08780897b37dlevel0_row1\" class=\"row_heading level0 row1\" >1</th> \n",
       "        <td id=\"T_bff181a2_46f2_11e9_87f7_08780897b37drow1_col0\" class=\"data row1 col0\" >2</td> \n",
       "        <td id=\"T_bff181a2_46f2_11e9_87f7_08780897b37drow1_col1\" class=\"data row1 col1\" >Ant-Man</td> \n",
       "        <td id=\"T_bff181a2_46f2_11e9_87f7_08780897b37drow1_col2\" class=\"data row1 col2\" >Male</td> \n",
       "        <td id=\"T_bff181a2_46f2_11e9_87f7_08780897b37drow1_col3\" class=\"data row1 col3\" >blue</td> \n",
       "        <td id=\"T_bff181a2_46f2_11e9_87f7_08780897b37drow1_col4\" class=\"data row1 col4\" >Blond</td> \n",
       "        <td id=\"T_bff181a2_46f2_11e9_87f7_08780897b37drow1_col5\" class=\"data row1 col5\" >211</td> \n",
       "        <td id=\"T_bff181a2_46f2_11e9_87f7_08780897b37drow1_col6\" class=\"data row1 col6\" >good</td> \n",
       "        <td id=\"T_bff181a2_46f2_11e9_87f7_08780897b37drow1_col7\" class=\"data row1 col7\" >122</td> \n",
       "        <td id=\"T_bff181a2_46f2_11e9_87f7_08780897b37drow1_col8\" class=\"data row1 col8\" >Above average height</td> \n",
       "        <td id=\"T_bff181a2_46f2_11e9_87f7_08780897b37drow1_col9\" class=\"data row1 col9\" >Ant-Man Has Blue Color Eyes And Blond Hair</td> \n",
       "    </tr>    <tr> \n",
       "        <th id=\"T_bff181a2_46f2_11e9_87f7_08780897b37dlevel0_row2\" class=\"row_heading level0 row2\" >2</th> \n",
       "        <td id=\"T_bff181a2_46f2_11e9_87f7_08780897b37drow2_col0\" class=\"data row2 col0\" >3</td> \n",
       "        <td id=\"T_bff181a2_46f2_11e9_87f7_08780897b37drow2_col1\" class=\"data row2 col1\" >Batgirl</td> \n",
       "        <td id=\"T_bff181a2_46f2_11e9_87f7_08780897b37drow2_col2\" class=\"data row2 col2\" >Female</td> \n",
       "        <td id=\"T_bff181a2_46f2_11e9_87f7_08780897b37drow2_col3\" class=\"data row2 col3\" >green</td> \n",
       "        <td id=\"T_bff181a2_46f2_11e9_87f7_08780897b37drow2_col4\" class=\"data row2 col4\" >Red</td> \n",
       "        <td id=\"T_bff181a2_46f2_11e9_87f7_08780897b37drow2_col5\" class=\"data row2 col5\" >170</td> \n",
       "        <td id=\"T_bff181a2_46f2_11e9_87f7_08780897b37drow2_col6\" class=\"data row2 col6\" >good</td> \n",
       "        <td id=\"T_bff181a2_46f2_11e9_87f7_08780897b37drow2_col7\" class=\"data row2 col7\" >57</td> \n",
       "        <td id=\"T_bff181a2_46f2_11e9_87f7_08780897b37drow2_col8\" class=\"data row2 col8\" >Below average height</td> \n",
       "        <td id=\"T_bff181a2_46f2_11e9_87f7_08780897b37drow2_col9\" class=\"data row2 col9\" >Batgirl Has Green Color Eyes And Red Hair</td> \n",
       "    </tr>    <tr> \n",
       "        <th id=\"T_bff181a2_46f2_11e9_87f7_08780897b37dlevel0_row3\" class=\"row_heading level0 row3\" >3</th> \n",
       "        <td id=\"T_bff181a2_46f2_11e9_87f7_08780897b37drow3_col0\" class=\"data row3 col0\" >4</td> \n",
       "        <td id=\"T_bff181a2_46f2_11e9_87f7_08780897b37drow3_col1\" class=\"data row3 col1\" >Batman</td> \n",
       "        <td id=\"T_bff181a2_46f2_11e9_87f7_08780897b37drow3_col2\" class=\"data row3 col2\" >Male</td> \n",
       "        <td id=\"T_bff181a2_46f2_11e9_87f7_08780897b37drow3_col3\" class=\"data row3 col3\" >blue</td> \n",
       "        <td id=\"T_bff181a2_46f2_11e9_87f7_08780897b37drow3_col4\" class=\"data row3 col4\" >black</td> \n",
       "        <td id=\"T_bff181a2_46f2_11e9_87f7_08780897b37drow3_col5\" class=\"data row3 col5\" >188</td> \n",
       "        <td id=\"T_bff181a2_46f2_11e9_87f7_08780897b37drow3_col6\" class=\"data row3 col6\" >good</td> \n",
       "        <td id=\"T_bff181a2_46f2_11e9_87f7_08780897b37drow3_col7\" class=\"data row3 col7\" >95</td> \n",
       "        <td id=\"T_bff181a2_46f2_11e9_87f7_08780897b37drow3_col8\" class=\"data row3 col8\" >Below average height</td> \n",
       "        <td id=\"T_bff181a2_46f2_11e9_87f7_08780897b37drow3_col9\" class=\"data row3 col9\" >Batman Has Blue Color Eyes And Black Hair</td> \n",
       "    </tr>    <tr> \n",
       "        <th id=\"T_bff181a2_46f2_11e9_87f7_08780897b37dlevel0_row4\" class=\"row_heading level0 row4\" >4</th> \n",
       "        <td id=\"T_bff181a2_46f2_11e9_87f7_08780897b37drow4_col0\" class=\"data row4 col0\" >5</td> \n",
       "        <td id=\"T_bff181a2_46f2_11e9_87f7_08780897b37drow4_col1\" class=\"data row4 col1\" >Black Widow</td> \n",
       "        <td id=\"T_bff181a2_46f2_11e9_87f7_08780897b37drow4_col2\" class=\"data row4 col2\" >Female</td> \n",
       "        <td id=\"T_bff181a2_46f2_11e9_87f7_08780897b37drow4_col3\" class=\"data row4 col3\" >green</td> \n",
       "        <td id=\"T_bff181a2_46f2_11e9_87f7_08780897b37drow4_col4\" class=\"data row4 col4\" >Auburn</td> \n",
       "        <td id=\"T_bff181a2_46f2_11e9_87f7_08780897b37drow4_col5\" class=\"data row4 col5\" >170</td> \n",
       "        <td id=\"T_bff181a2_46f2_11e9_87f7_08780897b37drow4_col6\" class=\"data row4 col6\" >good</td> \n",
       "        <td id=\"T_bff181a2_46f2_11e9_87f7_08780897b37drow4_col7\" class=\"data row4 col7\" >59</td> \n",
       "        <td id=\"T_bff181a2_46f2_11e9_87f7_08780897b37drow4_col8\" class=\"data row4 col8\" >Below average height</td> \n",
       "        <td id=\"T_bff181a2_46f2_11e9_87f7_08780897b37drow4_col9\" class=\"data row4 col9\" >Black Widow Has Green Color Eyes And Auburn Hair</td> \n",
       "    </tr>    <tr> \n",
       "        <th id=\"T_bff181a2_46f2_11e9_87f7_08780897b37dlevel0_row5\" class=\"row_heading level0 row5\" >5</th> \n",
       "        <td id=\"T_bff181a2_46f2_11e9_87f7_08780897b37drow5_col0\" class=\"data row5 col0\" >6</td> \n",
       "        <td id=\"T_bff181a2_46f2_11e9_87f7_08780897b37drow5_col1\" class=\"data row5 col1\" >Captain America</td> \n",
       "        <td id=\"T_bff181a2_46f2_11e9_87f7_08780897b37drow5_col2\" class=\"data row5 col2\" >Male</td> \n",
       "        <td id=\"T_bff181a2_46f2_11e9_87f7_08780897b37drow5_col3\" class=\"data row5 col3\" >blue</td> \n",
       "        <td id=\"T_bff181a2_46f2_11e9_87f7_08780897b37drow5_col4\" class=\"data row5 col4\" >blond</td> \n",
       "        <td id=\"T_bff181a2_46f2_11e9_87f7_08780897b37drow5_col5\" class=\"data row5 col5\" >188</td> \n",
       "        <td id=\"T_bff181a2_46f2_11e9_87f7_08780897b37drow5_col6\" class=\"data row5 col6\" >good</td> \n",
       "        <td id=\"T_bff181a2_46f2_11e9_87f7_08780897b37drow5_col7\" class=\"data row5 col7\" >108</td> \n",
       "        <td id=\"T_bff181a2_46f2_11e9_87f7_08780897b37drow5_col8\" class=\"data row5 col8\" >Below average height</td> \n",
       "        <td id=\"T_bff181a2_46f2_11e9_87f7_08780897b37drow5_col9\" class=\"data row5 col9\" >Captain America Has Blue Color Eyes And Blond Hair</td> \n",
       "    </tr>    <tr> \n",
       "        <th id=\"T_bff181a2_46f2_11e9_87f7_08780897b37dlevel0_row6\" class=\"row_heading level0 row6\" >6</th> \n",
       "        <td id=\"T_bff181a2_46f2_11e9_87f7_08780897b37drow6_col0\" class=\"data row6 col0\" >7</td> \n",
       "        <td id=\"T_bff181a2_46f2_11e9_87f7_08780897b37drow6_col1\" class=\"data row6 col1\" >Cyclops</td> \n",
       "        <td id=\"T_bff181a2_46f2_11e9_87f7_08780897b37drow6_col2\" class=\"data row6 col2\" >Male</td> \n",
       "        <td id=\"T_bff181a2_46f2_11e9_87f7_08780897b37drow6_col3\" class=\"data row6 col3\" >brown</td> \n",
       "        <td id=\"T_bff181a2_46f2_11e9_87f7_08780897b37drow6_col4\" class=\"data row6 col4\" >Brown</td> \n",
       "        <td id=\"T_bff181a2_46f2_11e9_87f7_08780897b37drow6_col5\" class=\"data row6 col5\" >191</td> \n",
       "        <td id=\"T_bff181a2_46f2_11e9_87f7_08780897b37drow6_col6\" class=\"data row6 col6\" >good</td> \n",
       "        <td id=\"T_bff181a2_46f2_11e9_87f7_08780897b37drow6_col7\" class=\"data row6 col7\" >88</td> \n",
       "        <td id=\"T_bff181a2_46f2_11e9_87f7_08780897b37drow6_col8\" class=\"data row6 col8\" >Below average height</td> \n",
       "        <td id=\"T_bff181a2_46f2_11e9_87f7_08780897b37drow6_col9\" class=\"data row6 col9\" >Cyclops Has Brown Color Eyes And Brown Hair</td> \n",
       "    </tr>    <tr> \n",
       "        <th id=\"T_bff181a2_46f2_11e9_87f7_08780897b37dlevel0_row7\" class=\"row_heading level0 row7\" >7</th> \n",
       "        <td id=\"T_bff181a2_46f2_11e9_87f7_08780897b37drow7_col0\" class=\"data row7 col0\" >8</td> \n",
       "        <td id=\"T_bff181a2_46f2_11e9_87f7_08780897b37drow7_col1\" class=\"data row7 col1\" >Darth Vader</td> \n",
       "        <td id=\"T_bff181a2_46f2_11e9_87f7_08780897b37drow7_col2\" class=\"data row7 col2\" >Male</td> \n",
       "        <td id=\"T_bff181a2_46f2_11e9_87f7_08780897b37drow7_col3\" class=\"data row7 col3\" >yellow</td> \n",
       "        <td id=\"T_bff181a2_46f2_11e9_87f7_08780897b37drow7_col4\" class=\"data row7 col4\" >No Hair</td> \n",
       "        <td id=\"T_bff181a2_46f2_11e9_87f7_08780897b37drow7_col5\" class=\"data row7 col5\" >198</td> \n",
       "        <td id=\"T_bff181a2_46f2_11e9_87f7_08780897b37drow7_col6\" class=\"data row7 col6\" >bad</td> \n",
       "        <td id=\"T_bff181a2_46f2_11e9_87f7_08780897b37drow7_col7\" class=\"data row7 col7\" >135</td> \n",
       "        <td id=\"T_bff181a2_46f2_11e9_87f7_08780897b37drow7_col8\" class=\"data row7 col8\" >Below average height</td> \n",
       "        <td id=\"T_bff181a2_46f2_11e9_87f7_08780897b37drow7_col9\" class=\"data row7 col9\" >Darth Vader Has Yellow Color Eyes And No Hair Hair</td> \n",
       "    </tr>    <tr> \n",
       "        <th id=\"T_bff181a2_46f2_11e9_87f7_08780897b37dlevel0_row8\" class=\"row_heading level0 row8\" >8</th> \n",
       "        <td id=\"T_bff181a2_46f2_11e9_87f7_08780897b37drow8_col0\" class=\"data row8 col0\" >9</td> \n",
       "        <td id=\"T_bff181a2_46f2_11e9_87f7_08780897b37drow8_col1\" class=\"data row8 col1\" >Deadpool</td> \n",
       "        <td id=\"T_bff181a2_46f2_11e9_87f7_08780897b37drow8_col2\" class=\"data row8 col2\" >Male</td> \n",
       "        <td id=\"T_bff181a2_46f2_11e9_87f7_08780897b37drow8_col3\" class=\"data row8 col3\" >brown</td> \n",
       "        <td id=\"T_bff181a2_46f2_11e9_87f7_08780897b37drow8_col4\" class=\"data row8 col4\" >No Hair</td> \n",
       "        <td id=\"T_bff181a2_46f2_11e9_87f7_08780897b37drow8_col5\" class=\"data row8 col5\" >188</td> \n",
       "        <td id=\"T_bff181a2_46f2_11e9_87f7_08780897b37drow8_col6\" class=\"data row8 col6\" >neutral</td> \n",
       "        <td id=\"T_bff181a2_46f2_11e9_87f7_08780897b37drow8_col7\" class=\"data row8 col7\" >95</td> \n",
       "        <td id=\"T_bff181a2_46f2_11e9_87f7_08780897b37drow8_col8\" class=\"data row8 col8\" >Below average height</td> \n",
       "        <td id=\"T_bff181a2_46f2_11e9_87f7_08780897b37drow8_col9\" class=\"data row8 col9\" >Deadpool Has Brown Color Eyes And No Hair Hair</td> \n",
       "    </tr>    <tr> \n",
       "        <th id=\"T_bff181a2_46f2_11e9_87f7_08780897b37dlevel0_row9\" class=\"row_heading level0 row9\" >9</th> \n",
       "        <td id=\"T_bff181a2_46f2_11e9_87f7_08780897b37drow9_col0\" class=\"data row9 col0\" >10</td> \n",
       "        <td id=\"T_bff181a2_46f2_11e9_87f7_08780897b37drow9_col1\" class=\"data row9 col1\" >Deadshot</td> \n",
       "        <td id=\"T_bff181a2_46f2_11e9_87f7_08780897b37drow9_col2\" class=\"data row9 col2\" >Male</td> \n",
       "        <td id=\"T_bff181a2_46f2_11e9_87f7_08780897b37drow9_col3\" class=\"data row9 col3\" >brown</td> \n",
       "        <td id=\"T_bff181a2_46f2_11e9_87f7_08780897b37drow9_col4\" class=\"data row9 col4\" >Brown</td> \n",
       "        <td id=\"T_bff181a2_46f2_11e9_87f7_08780897b37drow9_col5\" class=\"data row9 col5\" >185</td> \n",
       "        <td id=\"T_bff181a2_46f2_11e9_87f7_08780897b37drow9_col6\" class=\"data row9 col6\" >bad</td> \n",
       "        <td id=\"T_bff181a2_46f2_11e9_87f7_08780897b37drow9_col7\" class=\"data row9 col7\" >91</td> \n",
       "        <td id=\"T_bff181a2_46f2_11e9_87f7_08780897b37drow9_col8\" class=\"data row9 col8\" >Below average height</td> \n",
       "        <td id=\"T_bff181a2_46f2_11e9_87f7_08780897b37drow9_col9\" class=\"data row9 col9\" >Deadshot Has Brown Color Eyes And Brown Hair</td> \n",
       "    </tr>    <tr> \n",
       "        <th id=\"T_bff181a2_46f2_11e9_87f7_08780897b37dlevel0_row10\" class=\"row_heading level0 row10\" >10</th> \n",
       "        <td id=\"T_bff181a2_46f2_11e9_87f7_08780897b37drow10_col0\" class=\"data row10 col0\" >11</td> \n",
       "        <td id=\"T_bff181a2_46f2_11e9_87f7_08780897b37drow10_col1\" class=\"data row10 col1\" >Doctor Doom</td> \n",
       "        <td id=\"T_bff181a2_46f2_11e9_87f7_08780897b37drow10_col2\" class=\"data row10 col2\" >Male</td> \n",
       "        <td id=\"T_bff181a2_46f2_11e9_87f7_08780897b37drow10_col3\" class=\"data row10 col3\" >brown</td> \n",
       "        <td id=\"T_bff181a2_46f2_11e9_87f7_08780897b37drow10_col4\" class=\"data row10 col4\" >Brown</td> \n",
       "        <td id=\"T_bff181a2_46f2_11e9_87f7_08780897b37drow10_col5\" class=\"data row10 col5\" >201</td> \n",
       "        <td id=\"T_bff181a2_46f2_11e9_87f7_08780897b37drow10_col6\" class=\"data row10 col6\" >bad</td> \n",
       "        <td id=\"T_bff181a2_46f2_11e9_87f7_08780897b37drow10_col7\" class=\"data row10 col7\" >187</td> \n",
       "        <td id=\"T_bff181a2_46f2_11e9_87f7_08780897b37drow10_col8\" class=\"data row10 col8\" >Average height</td> \n",
       "        <td id=\"T_bff181a2_46f2_11e9_87f7_08780897b37drow10_col9\" class=\"data row10 col9\" >Doctor Doom Has Brown Color Eyes And Brown Hair</td> \n",
       "    </tr>    <tr> \n",
       "        <th id=\"T_bff181a2_46f2_11e9_87f7_08780897b37dlevel0_row11\" class=\"row_heading level0 row11\" >11</th> \n",
       "        <td id=\"T_bff181a2_46f2_11e9_87f7_08780897b37drow11_col0\" class=\"data row11 col0\" >12</td> \n",
       "        <td id=\"T_bff181a2_46f2_11e9_87f7_08780897b37drow11_col1\" class=\"data row11 col1\" >Doctor Octopus</td> \n",
       "        <td id=\"T_bff181a2_46f2_11e9_87f7_08780897b37drow11_col2\" class=\"data row11 col2\" >Male</td> \n",
       "        <td id=\"T_bff181a2_46f2_11e9_87f7_08780897b37drow11_col3\" class=\"data row11 col3\" >brown</td> \n",
       "        <td id=\"T_bff181a2_46f2_11e9_87f7_08780897b37drow11_col4\" class=\"data row11 col4\" >Brown</td> \n",
       "        <td id=\"T_bff181a2_46f2_11e9_87f7_08780897b37drow11_col5\" class=\"data row11 col5\" >175</td> \n",
       "        <td id=\"T_bff181a2_46f2_11e9_87f7_08780897b37drow11_col6\" class=\"data row11 col6\" >bad</td> \n",
       "        <td id=\"T_bff181a2_46f2_11e9_87f7_08780897b37drow11_col7\" class=\"data row11 col7\" >110</td> \n",
       "        <td id=\"T_bff181a2_46f2_11e9_87f7_08780897b37drow11_col8\" class=\"data row11 col8\" >Below average height</td> \n",
       "        <td id=\"T_bff181a2_46f2_11e9_87f7_08780897b37drow11_col9\" class=\"data row11 col9\" >Doctor Octopus Has Brown Color Eyes And Brown Hair</td> \n",
       "    </tr>    <tr> \n",
       "        <th id=\"T_bff181a2_46f2_11e9_87f7_08780897b37dlevel0_row12\" class=\"row_heading level0 row12\" >12</th> \n",
       "        <td id=\"T_bff181a2_46f2_11e9_87f7_08780897b37drow12_col0\" class=\"data row12 col0\" >13</td> \n",
       "        <td id=\"T_bff181a2_46f2_11e9_87f7_08780897b37drow12_col1\" class=\"data row12 col1\" >Flash</td> \n",
       "        <td id=\"T_bff181a2_46f2_11e9_87f7_08780897b37drow12_col2\" class=\"data row12 col2\" >Male</td> \n",
       "        <td id=\"T_bff181a2_46f2_11e9_87f7_08780897b37drow12_col3\" class=\"data row12 col3\" >blue</td> \n",
       "        <td id=\"T_bff181a2_46f2_11e9_87f7_08780897b37drow12_col4\" class=\"data row12 col4\" >Brown / White</td> \n",
       "        <td id=\"T_bff181a2_46f2_11e9_87f7_08780897b37drow12_col5\" class=\"data row12 col5\" >180</td> \n",
       "        <td id=\"T_bff181a2_46f2_11e9_87f7_08780897b37drow12_col6\" class=\"data row12 col6\" >good</td> \n",
       "        <td id=\"T_bff181a2_46f2_11e9_87f7_08780897b37drow12_col7\" class=\"data row12 col7\" >81</td> \n",
       "        <td id=\"T_bff181a2_46f2_11e9_87f7_08780897b37drow12_col8\" class=\"data row12 col8\" >Below average height</td> \n",
       "        <td id=\"T_bff181a2_46f2_11e9_87f7_08780897b37drow12_col9\" class=\"data row12 col9\" >Flash Has Blue Color Eyes And Brown / White Hair</td> \n",
       "    </tr>    <tr> \n",
       "        <th id=\"T_bff181a2_46f2_11e9_87f7_08780897b37dlevel0_row13\" class=\"row_heading level0 row13\" >13</th> \n",
       "        <td id=\"T_bff181a2_46f2_11e9_87f7_08780897b37drow13_col0\" class=\"data row13 col0\" >14</td> \n",
       "        <td id=\"T_bff181a2_46f2_11e9_87f7_08780897b37drow13_col1\" class=\"data row13 col1\" >Gorilla Grodd</td> \n",
       "        <td id=\"T_bff181a2_46f2_11e9_87f7_08780897b37drow13_col2\" class=\"data row13 col2\" >Male</td> \n",
       "        <td id=\"T_bff181a2_46f2_11e9_87f7_08780897b37drow13_col3\" class=\"data row13 col3\" >yellow</td> \n",
       "        <td id=\"T_bff181a2_46f2_11e9_87f7_08780897b37drow13_col4\" class=\"data row13 col4\" >Black</td> \n",
       "        <td id=\"T_bff181a2_46f2_11e9_87f7_08780897b37drow13_col5\" class=\"data row13 col5\" >198</td> \n",
       "        <td id=\"T_bff181a2_46f2_11e9_87f7_08780897b37drow13_col6\" class=\"data row13 col6\" >bad</td> \n",
       "        <td id=\"T_bff181a2_46f2_11e9_87f7_08780897b37drow13_col7\" class=\"data row13 col7\" >270</td> \n",
       "        <td id=\"T_bff181a2_46f2_11e9_87f7_08780897b37drow13_col8\" class=\"data row13 col8\" >Below average height</td> \n",
       "        <td id=\"T_bff181a2_46f2_11e9_87f7_08780897b37drow13_col9\" class=\"data row13 col9\" >Gorilla Grodd Has Yellow Color Eyes And Black Hair</td> \n",
       "    </tr>    <tr> \n",
       "        <th id=\"T_bff181a2_46f2_11e9_87f7_08780897b37dlevel0_row14\" class=\"row_heading level0 row14\" >14</th> \n",
       "        <td id=\"T_bff181a2_46f2_11e9_87f7_08780897b37drow14_col0\" class=\"data row14 col0\" >15</td> \n",
       "        <td id=\"T_bff181a2_46f2_11e9_87f7_08780897b37drow14_col1\" class=\"data row14 col1\" >Green Goblin</td> \n",
       "        <td id=\"T_bff181a2_46f2_11e9_87f7_08780897b37drow14_col2\" class=\"data row14 col2\" >Male</td> \n",
       "        <td id=\"T_bff181a2_46f2_11e9_87f7_08780897b37drow14_col3\" class=\"data row14 col3\" >blue</td> \n",
       "        <td id=\"T_bff181a2_46f2_11e9_87f7_08780897b37drow14_col4\" class=\"data row14 col4\" >Auburn</td> \n",
       "        <td id=\"T_bff181a2_46f2_11e9_87f7_08780897b37drow14_col5\" class=\"data row14 col5\" >180</td> \n",
       "        <td id=\"T_bff181a2_46f2_11e9_87f7_08780897b37drow14_col6\" class=\"data row14 col6\" >bad</td> \n",
       "        <td id=\"T_bff181a2_46f2_11e9_87f7_08780897b37drow14_col7\" class=\"data row14 col7\" >83</td> \n",
       "        <td id=\"T_bff181a2_46f2_11e9_87f7_08780897b37drow14_col8\" class=\"data row14 col8\" >Below average height</td> \n",
       "        <td id=\"T_bff181a2_46f2_11e9_87f7_08780897b37drow14_col9\" class=\"data row14 col9\" >Green Goblin Has Blue Color Eyes And Auburn Hair</td> \n",
       "    </tr>    <tr> \n",
       "        <th id=\"T_bff181a2_46f2_11e9_87f7_08780897b37dlevel0_row15\" class=\"row_heading level0 row15\" >15</th> \n",
       "        <td id=\"T_bff181a2_46f2_11e9_87f7_08780897b37drow15_col0\" class=\"data row15 col0\" >16</td> \n",
       "        <td id=\"T_bff181a2_46f2_11e9_87f7_08780897b37drow15_col1\" class=\"data row15 col1\" >Groot</td> \n",
       "        <td id=\"T_bff181a2_46f2_11e9_87f7_08780897b37drow15_col2\" class=\"data row15 col2\" >Male</td> \n",
       "        <td id=\"T_bff181a2_46f2_11e9_87f7_08780897b37drow15_col3\" class=\"data row15 col3\" >yellow</td> \n",
       "        <td id=\"T_bff181a2_46f2_11e9_87f7_08780897b37drow15_col4\" class=\"data row15 col4\" >-</td> \n",
       "        <td id=\"T_bff181a2_46f2_11e9_87f7_08780897b37drow15_col5\" class=\"data row15 col5\" >701</td> \n",
       "        <td id=\"T_bff181a2_46f2_11e9_87f7_08780897b37drow15_col6\" class=\"data row15 col6\" >good</td> \n",
       "        <td id=\"T_bff181a2_46f2_11e9_87f7_08780897b37drow15_col7\" class=\"data row15 col7\" >4</td> \n",
       "        <td id=\"T_bff181a2_46f2_11e9_87f7_08780897b37drow15_col8\" class=\"data row15 col8\" >Above average height</td> \n",
       "        <td id=\"T_bff181a2_46f2_11e9_87f7_08780897b37drow15_col9\" class=\"data row15 col9\" >Groot Has Yellow Color Eyes And - Hair</td> \n",
       "    </tr>    <tr> \n",
       "        <th id=\"T_bff181a2_46f2_11e9_87f7_08780897b37dlevel0_row16\" class=\"row_heading level0 row16\" >16</th> \n",
       "        <td id=\"T_bff181a2_46f2_11e9_87f7_08780897b37drow16_col0\" class=\"data row16 col0\" >17</td> \n",
       "        <td id=\"T_bff181a2_46f2_11e9_87f7_08780897b37drow16_col1\" class=\"data row16 col1\" >Hawkeye</td> \n",
       "        <td id=\"T_bff181a2_46f2_11e9_87f7_08780897b37drow16_col2\" class=\"data row16 col2\" >Male</td> \n",
       "        <td id=\"T_bff181a2_46f2_11e9_87f7_08780897b37drow16_col3\" class=\"data row16 col3\" >blue</td> \n",
       "        <td id=\"T_bff181a2_46f2_11e9_87f7_08780897b37drow16_col4\" class=\"data row16 col4\" >Blond</td> \n",
       "        <td id=\"T_bff181a2_46f2_11e9_87f7_08780897b37drow16_col5\" class=\"data row16 col5\" >191</td> \n",
       "        <td id=\"T_bff181a2_46f2_11e9_87f7_08780897b37drow16_col6\" class=\"data row16 col6\" >good</td> \n",
       "        <td id=\"T_bff181a2_46f2_11e9_87f7_08780897b37drow16_col7\" class=\"data row16 col7\" >104</td> \n",
       "        <td id=\"T_bff181a2_46f2_11e9_87f7_08780897b37drow16_col8\" class=\"data row16 col8\" >Below average height</td> \n",
       "        <td id=\"T_bff181a2_46f2_11e9_87f7_08780897b37drow16_col9\" class=\"data row16 col9\" >Hawkeye Has Blue Color Eyes And Blond Hair</td> \n",
       "    </tr>    <tr> \n",
       "        <th id=\"T_bff181a2_46f2_11e9_87f7_08780897b37dlevel0_row17\" class=\"row_heading level0 row17\" >17</th> \n",
       "        <td id=\"T_bff181a2_46f2_11e9_87f7_08780897b37drow17_col0\" class=\"data row17 col0\" >18</td> \n",
       "        <td id=\"T_bff181a2_46f2_11e9_87f7_08780897b37drow17_col1\" class=\"data row17 col1\" >Iron Man</td> \n",
       "        <td id=\"T_bff181a2_46f2_11e9_87f7_08780897b37drow17_col2\" class=\"data row17 col2\" >Male</td> \n",
       "        <td id=\"T_bff181a2_46f2_11e9_87f7_08780897b37drow17_col3\" class=\"data row17 col3\" >blue</td> \n",
       "        <td id=\"T_bff181a2_46f2_11e9_87f7_08780897b37drow17_col4\" class=\"data row17 col4\" >Black</td> \n",
       "        <td id=\"T_bff181a2_46f2_11e9_87f7_08780897b37drow17_col5\" class=\"data row17 col5\" >198</td> \n",
       "        <td id=\"T_bff181a2_46f2_11e9_87f7_08780897b37drow17_col6\" class=\"data row17 col6\" >good</td> \n",
       "        <td id=\"T_bff181a2_46f2_11e9_87f7_08780897b37drow17_col7\" class=\"data row17 col7\" >191</td> \n",
       "        <td id=\"T_bff181a2_46f2_11e9_87f7_08780897b37drow17_col8\" class=\"data row17 col8\" >Below average height</td> \n",
       "        <td id=\"T_bff181a2_46f2_11e9_87f7_08780897b37drow17_col9\" class=\"data row17 col9\" >Iron Man Has Blue Color Eyes And Black Hair</td> \n",
       "    </tr>    <tr> \n",
       "        <th id=\"T_bff181a2_46f2_11e9_87f7_08780897b37dlevel0_row18\" class=\"row_heading level0 row18\" >18</th> \n",
       "        <td id=\"T_bff181a2_46f2_11e9_87f7_08780897b37drow18_col0\" class=\"data row18 col0\" >19</td> \n",
       "        <td id=\"T_bff181a2_46f2_11e9_87f7_08780897b37drow18_col1\" class=\"data row18 col1\" >Joker</td> \n",
       "        <td id=\"T_bff181a2_46f2_11e9_87f7_08780897b37drow18_col2\" class=\"data row18 col2\" >Male</td> \n",
       "        <td id=\"T_bff181a2_46f2_11e9_87f7_08780897b37drow18_col3\" class=\"data row18 col3\" >green</td> \n",
       "        <td id=\"T_bff181a2_46f2_11e9_87f7_08780897b37drow18_col4\" class=\"data row18 col4\" >Green</td> \n",
       "        <td id=\"T_bff181a2_46f2_11e9_87f7_08780897b37drow18_col5\" class=\"data row18 col5\" >196</td> \n",
       "        <td id=\"T_bff181a2_46f2_11e9_87f7_08780897b37drow18_col6\" class=\"data row18 col6\" >bad</td> \n",
       "        <td id=\"T_bff181a2_46f2_11e9_87f7_08780897b37drow18_col7\" class=\"data row18 col7\" >86</td> \n",
       "        <td id=\"T_bff181a2_46f2_11e9_87f7_08780897b37drow18_col8\" class=\"data row18 col8\" >Below average height</td> \n",
       "        <td id=\"T_bff181a2_46f2_11e9_87f7_08780897b37drow18_col9\" class=\"data row18 col9\" >Joker Has Green Color Eyes And Green Hair</td> \n",
       "    </tr>    <tr> \n",
       "        <th id=\"T_bff181a2_46f2_11e9_87f7_08780897b37dlevel0_row19\" class=\"row_heading level0 row19\" >19</th> \n",
       "        <td id=\"T_bff181a2_46f2_11e9_87f7_08780897b37drow19_col0\" class=\"data row19 col0\" >20</td> \n",
       "        <td id=\"T_bff181a2_46f2_11e9_87f7_08780897b37drow19_col1\" class=\"data row19 col1\" >Killer Croc</td> \n",
       "        <td id=\"T_bff181a2_46f2_11e9_87f7_08780897b37drow19_col2\" class=\"data row19 col2\" >Male</td> \n",
       "        <td id=\"T_bff181a2_46f2_11e9_87f7_08780897b37drow19_col3\" class=\"data row19 col3\" >red</td> \n",
       "        <td id=\"T_bff181a2_46f2_11e9_87f7_08780897b37drow19_col4\" class=\"data row19 col4\" >No Hair</td> \n",
       "        <td id=\"T_bff181a2_46f2_11e9_87f7_08780897b37drow19_col5\" class=\"data row19 col5\" >244</td> \n",
       "        <td id=\"T_bff181a2_46f2_11e9_87f7_08780897b37drow19_col6\" class=\"data row19 col6\" >bad</td> \n",
       "        <td id=\"T_bff181a2_46f2_11e9_87f7_08780897b37drow19_col7\" class=\"data row19 col7\" >356</td> \n",
       "        <td id=\"T_bff181a2_46f2_11e9_87f7_08780897b37drow19_col8\" class=\"data row19 col8\" >Above average height</td> \n",
       "        <td id=\"T_bff181a2_46f2_11e9_87f7_08780897b37drow19_col9\" class=\"data row19 col9\" >Killer Croc Has Red Color Eyes And No Hair Hair</td> \n",
       "    </tr>    <tr> \n",
       "        <th id=\"T_bff181a2_46f2_11e9_87f7_08780897b37dlevel0_row20\" class=\"row_heading level0 row20\" >20</th> \n",
       "        <td id=\"T_bff181a2_46f2_11e9_87f7_08780897b37drow20_col0\" class=\"data row20 col0\" >21</td> \n",
       "        <td id=\"T_bff181a2_46f2_11e9_87f7_08780897b37drow20_col1\" class=\"data row20 col1\" >Kingpin</td> \n",
       "        <td id=\"T_bff181a2_46f2_11e9_87f7_08780897b37drow20_col2\" class=\"data row20 col2\" >Male</td> \n",
       "        <td id=\"T_bff181a2_46f2_11e9_87f7_08780897b37drow20_col3\" class=\"data row20 col3\" >blue</td> \n",
       "        <td id=\"T_bff181a2_46f2_11e9_87f7_08780897b37drow20_col4\" class=\"data row20 col4\" >No Hair</td> \n",
       "        <td id=\"T_bff181a2_46f2_11e9_87f7_08780897b37drow20_col5\" class=\"data row20 col5\" >201</td> \n",
       "        <td id=\"T_bff181a2_46f2_11e9_87f7_08780897b37drow20_col6\" class=\"data row20 col6\" >bad</td> \n",
       "        <td id=\"T_bff181a2_46f2_11e9_87f7_08780897b37drow20_col7\" class=\"data row20 col7\" >203</td> \n",
       "        <td id=\"T_bff181a2_46f2_11e9_87f7_08780897b37drow20_col8\" class=\"data row20 col8\" >Average height</td> \n",
       "        <td id=\"T_bff181a2_46f2_11e9_87f7_08780897b37drow20_col9\" class=\"data row20 col9\" >Kingpin Has Blue Color Eyes And No Hair Hair</td> \n",
       "    </tr>    <tr> \n",
       "        <th id=\"T_bff181a2_46f2_11e9_87f7_08780897b37dlevel0_row21\" class=\"row_heading level0 row21\" >21</th> \n",
       "        <td id=\"T_bff181a2_46f2_11e9_87f7_08780897b37drow21_col0\" class=\"data row21 col0\" >22</td> \n",
       "        <td id=\"T_bff181a2_46f2_11e9_87f7_08780897b37drow21_col1\" class=\"data row21 col1\" >Lex Luthor</td> \n",
       "        <td id=\"T_bff181a2_46f2_11e9_87f7_08780897b37drow21_col2\" class=\"data row21 col2\" >Male</td> \n",
       "        <td id=\"T_bff181a2_46f2_11e9_87f7_08780897b37drow21_col3\" class=\"data row21 col3\" >green</td> \n",
       "        <td id=\"T_bff181a2_46f2_11e9_87f7_08780897b37drow21_col4\" class=\"data row21 col4\" >No Hair</td> \n",
       "        <td id=\"T_bff181a2_46f2_11e9_87f7_08780897b37drow21_col5\" class=\"data row21 col5\" >188</td> \n",
       "        <td id=\"T_bff181a2_46f2_11e9_87f7_08780897b37drow21_col6\" class=\"data row21 col6\" >bad</td> \n",
       "        <td id=\"T_bff181a2_46f2_11e9_87f7_08780897b37drow21_col7\" class=\"data row21 col7\" >95</td> \n",
       "        <td id=\"T_bff181a2_46f2_11e9_87f7_08780897b37drow21_col8\" class=\"data row21 col8\" >Below average height</td> \n",
       "        <td id=\"T_bff181a2_46f2_11e9_87f7_08780897b37drow21_col9\" class=\"data row21 col9\" >Lex Luthor Has Green Color Eyes And No Hair Hair</td> \n",
       "    </tr>    <tr> \n",
       "        <th id=\"T_bff181a2_46f2_11e9_87f7_08780897b37dlevel0_row22\" class=\"row_heading level0 row22\" >22</th> \n",
       "        <td id=\"T_bff181a2_46f2_11e9_87f7_08780897b37drow22_col0\" class=\"data row22 col0\" >23</td> \n",
       "        <td id=\"T_bff181a2_46f2_11e9_87f7_08780897b37drow22_col1\" class=\"data row22 col1\" >Nightcrawler</td> \n",
       "        <td id=\"T_bff181a2_46f2_11e9_87f7_08780897b37drow22_col2\" class=\"data row22 col2\" >Male</td> \n",
       "        <td id=\"T_bff181a2_46f2_11e9_87f7_08780897b37drow22_col3\" class=\"data row22 col3\" >yellow</td> \n",
       "        <td id=\"T_bff181a2_46f2_11e9_87f7_08780897b37drow22_col4\" class=\"data row22 col4\" >Indigo</td> \n",
       "        <td id=\"T_bff181a2_46f2_11e9_87f7_08780897b37drow22_col5\" class=\"data row22 col5\" >175</td> \n",
       "        <td id=\"T_bff181a2_46f2_11e9_87f7_08780897b37drow22_col6\" class=\"data row22 col6\" >good</td> \n",
       "        <td id=\"T_bff181a2_46f2_11e9_87f7_08780897b37drow22_col7\" class=\"data row22 col7\" >88</td> \n",
       "        <td id=\"T_bff181a2_46f2_11e9_87f7_08780897b37drow22_col8\" class=\"data row22 col8\" >Below average height</td> \n",
       "        <td id=\"T_bff181a2_46f2_11e9_87f7_08780897b37drow22_col9\" class=\"data row22 col9\" >Nightcrawler Has Yellow Color Eyes And Indigo Hair</td> \n",
       "    </tr>    <tr> \n",
       "        <th id=\"T_bff181a2_46f2_11e9_87f7_08780897b37dlevel0_row23\" class=\"row_heading level0 row23\" >23</th> \n",
       "        <td id=\"T_bff181a2_46f2_11e9_87f7_08780897b37drow23_col0\" class=\"data row23 col0\" >24</td> \n",
       "        <td id=\"T_bff181a2_46f2_11e9_87f7_08780897b37drow23_col1\" class=\"data row23 col1\" >Poison Ivy</td> \n",
       "        <td id=\"T_bff181a2_46f2_11e9_87f7_08780897b37drow23_col2\" class=\"data row23 col2\" >Female</td> \n",
       "        <td id=\"T_bff181a2_46f2_11e9_87f7_08780897b37drow23_col3\" class=\"data row23 col3\" >green</td> \n",
       "        <td id=\"T_bff181a2_46f2_11e9_87f7_08780897b37drow23_col4\" class=\"data row23 col4\" >Red</td> \n",
       "        <td id=\"T_bff181a2_46f2_11e9_87f7_08780897b37drow23_col5\" class=\"data row23 col5\" >168</td> \n",
       "        <td id=\"T_bff181a2_46f2_11e9_87f7_08780897b37drow23_col6\" class=\"data row23 col6\" >bad</td> \n",
       "        <td id=\"T_bff181a2_46f2_11e9_87f7_08780897b37drow23_col7\" class=\"data row23 col7\" >50</td> \n",
       "        <td id=\"T_bff181a2_46f2_11e9_87f7_08780897b37drow23_col8\" class=\"data row23 col8\" >Below average height</td> \n",
       "        <td id=\"T_bff181a2_46f2_11e9_87f7_08780897b37drow23_col9\" class=\"data row23 col9\" >Poison Ivy Has Green Color Eyes And Red Hair</td> \n",
       "    </tr>    <tr> \n",
       "        <th id=\"T_bff181a2_46f2_11e9_87f7_08780897b37dlevel0_row24\" class=\"row_heading level0 row24\" >24</th> \n",
       "        <td id=\"T_bff181a2_46f2_11e9_87f7_08780897b37drow24_col0\" class=\"data row24 col0\" >25</td> \n",
       "        <td id=\"T_bff181a2_46f2_11e9_87f7_08780897b37drow24_col1\" class=\"data row24 col1\" >Pyro</td> \n",
       "        <td id=\"T_bff181a2_46f2_11e9_87f7_08780897b37drow24_col2\" class=\"data row24 col2\" >Male</td> \n",
       "        <td id=\"T_bff181a2_46f2_11e9_87f7_08780897b37drow24_col3\" class=\"data row24 col3\" >blue</td> \n",
       "        <td id=\"T_bff181a2_46f2_11e9_87f7_08780897b37drow24_col4\" class=\"data row24 col4\" >Blond</td> \n",
       "        <td id=\"T_bff181a2_46f2_11e9_87f7_08780897b37drow24_col5\" class=\"data row24 col5\" >178</td> \n",
       "        <td id=\"T_bff181a2_46f2_11e9_87f7_08780897b37drow24_col6\" class=\"data row24 col6\" >bad</td> \n",
       "        <td id=\"T_bff181a2_46f2_11e9_87f7_08780897b37drow24_col7\" class=\"data row24 col7\" >68</td> \n",
       "        <td id=\"T_bff181a2_46f2_11e9_87f7_08780897b37drow24_col8\" class=\"data row24 col8\" >Below average height</td> \n",
       "        <td id=\"T_bff181a2_46f2_11e9_87f7_08780897b37drow24_col9\" class=\"data row24 col9\" >Pyro Has Blue Color Eyes And Blond Hair</td> \n",
       "    </tr>    <tr> \n",
       "        <th id=\"T_bff181a2_46f2_11e9_87f7_08780897b37dlevel0_row25\" class=\"row_heading level0 row25\" >25</th> \n",
       "        <td id=\"T_bff181a2_46f2_11e9_87f7_08780897b37drow25_col0\" class=\"data row25 col0\" >26</td> \n",
       "        <td id=\"T_bff181a2_46f2_11e9_87f7_08780897b37drow25_col1\" class=\"data row25 col1\" >Ra's Al Ghul</td> \n",
       "        <td id=\"T_bff181a2_46f2_11e9_87f7_08780897b37drow25_col2\" class=\"data row25 col2\" >Male</td> \n",
       "        <td id=\"T_bff181a2_46f2_11e9_87f7_08780897b37drow25_col3\" class=\"data row25 col3\" >green</td> \n",
       "        <td id=\"T_bff181a2_46f2_11e9_87f7_08780897b37drow25_col4\" class=\"data row25 col4\" >Grey</td> \n",
       "        <td id=\"T_bff181a2_46f2_11e9_87f7_08780897b37drow25_col5\" class=\"data row25 col5\" >193</td> \n",
       "        <td id=\"T_bff181a2_46f2_11e9_87f7_08780897b37drow25_col6\" class=\"data row25 col6\" >bad</td> \n",
       "        <td id=\"T_bff181a2_46f2_11e9_87f7_08780897b37drow25_col7\" class=\"data row25 col7\" >97</td> \n",
       "        <td id=\"T_bff181a2_46f2_11e9_87f7_08780897b37drow25_col8\" class=\"data row25 col8\" >Below average height</td> \n",
       "        <td id=\"T_bff181a2_46f2_11e9_87f7_08780897b37drow25_col9\" class=\"data row25 col9\" >Ra'S Al Ghul Has Green Color Eyes And Grey Hair</td> \n",
       "    </tr>    <tr> \n",
       "        <th id=\"T_bff181a2_46f2_11e9_87f7_08780897b37dlevel0_row26\" class=\"row_heading level0 row26\" >26</th> \n",
       "        <td id=\"T_bff181a2_46f2_11e9_87f7_08780897b37drow26_col0\" class=\"data row26 col0\" >27</td> \n",
       "        <td id=\"T_bff181a2_46f2_11e9_87f7_08780897b37drow26_col1\" class=\"data row26 col1\" >Robin</td> \n",
       "        <td id=\"T_bff181a2_46f2_11e9_87f7_08780897b37drow26_col2\" class=\"data row26 col2\" >Male</td> \n",
       "        <td id=\"T_bff181a2_46f2_11e9_87f7_08780897b37drow26_col3\" class=\"data row26 col3\" >blue</td> \n",
       "        <td id=\"T_bff181a2_46f2_11e9_87f7_08780897b37drow26_col4\" class=\"data row26 col4\" >Black</td> \n",
       "        <td id=\"T_bff181a2_46f2_11e9_87f7_08780897b37drow26_col5\" class=\"data row26 col5\" >178</td> \n",
       "        <td id=\"T_bff181a2_46f2_11e9_87f7_08780897b37drow26_col6\" class=\"data row26 col6\" >good</td> \n",
       "        <td id=\"T_bff181a2_46f2_11e9_87f7_08780897b37drow26_col7\" class=\"data row26 col7\" >79</td> \n",
       "        <td id=\"T_bff181a2_46f2_11e9_87f7_08780897b37drow26_col8\" class=\"data row26 col8\" >Below average height</td> \n",
       "        <td id=\"T_bff181a2_46f2_11e9_87f7_08780897b37drow26_col9\" class=\"data row26 col9\" >Robin Has Blue Color Eyes And Black Hair</td> \n",
       "    </tr>    <tr> \n",
       "        <th id=\"T_bff181a2_46f2_11e9_87f7_08780897b37dlevel0_row27\" class=\"row_heading level0 row27\" >27</th> \n",
       "        <td id=\"T_bff181a2_46f2_11e9_87f7_08780897b37drow27_col0\" class=\"data row27 col0\" >28</td> \n",
       "        <td id=\"T_bff181a2_46f2_11e9_87f7_08780897b37drow27_col1\" class=\"data row27 col1\" >Rocket Raccoon</td> \n",
       "        <td id=\"T_bff181a2_46f2_11e9_87f7_08780897b37drow27_col2\" class=\"data row27 col2\" >Male</td> \n",
       "        <td id=\"T_bff181a2_46f2_11e9_87f7_08780897b37drow27_col3\" class=\"data row27 col3\" >brown</td> \n",
       "        <td id=\"T_bff181a2_46f2_11e9_87f7_08780897b37drow27_col4\" class=\"data row27 col4\" >Brown</td> \n",
       "        <td id=\"T_bff181a2_46f2_11e9_87f7_08780897b37drow27_col5\" class=\"data row27 col5\" >122</td> \n",
       "        <td id=\"T_bff181a2_46f2_11e9_87f7_08780897b37drow27_col6\" class=\"data row27 col6\" >good</td> \n",
       "        <td id=\"T_bff181a2_46f2_11e9_87f7_08780897b37drow27_col7\" class=\"data row27 col7\" >25</td> \n",
       "        <td id=\"T_bff181a2_46f2_11e9_87f7_08780897b37drow27_col8\" class=\"data row27 col8\" >Below average height</td> \n",
       "        <td id=\"T_bff181a2_46f2_11e9_87f7_08780897b37drow27_col9\" class=\"data row27 col9\" >Rocket Raccoon Has Brown Color Eyes And Brown Hair</td> \n",
       "    </tr>    <tr> \n",
       "        <th id=\"T_bff181a2_46f2_11e9_87f7_08780897b37dlevel0_row28\" class=\"row_heading level0 row28\" >28</th> \n",
       "        <td id=\"T_bff181a2_46f2_11e9_87f7_08780897b37drow28_col0\" class=\"data row28 col0\" >29</td> \n",
       "        <td id=\"T_bff181a2_46f2_11e9_87f7_08780897b37drow28_col1\" class=\"data row28 col1\" >Sabretooth</td> \n",
       "        <td id=\"T_bff181a2_46f2_11e9_87f7_08780897b37drow28_col2\" class=\"data row28 col2\" >Male</td> \n",
       "        <td id=\"T_bff181a2_46f2_11e9_87f7_08780897b37drow28_col3\" class=\"data row28 col3\" >amber</td> \n",
       "        <td id=\"T_bff181a2_46f2_11e9_87f7_08780897b37drow28_col4\" class=\"data row28 col4\" >Blond</td> \n",
       "        <td id=\"T_bff181a2_46f2_11e9_87f7_08780897b37drow28_col5\" class=\"data row28 col5\" >198</td> \n",
       "        <td id=\"T_bff181a2_46f2_11e9_87f7_08780897b37drow28_col6\" class=\"data row28 col6\" >bad</td> \n",
       "        <td id=\"T_bff181a2_46f2_11e9_87f7_08780897b37drow28_col7\" class=\"data row28 col7\" >171</td> \n",
       "        <td id=\"T_bff181a2_46f2_11e9_87f7_08780897b37drow28_col8\" class=\"data row28 col8\" >Below average height</td> \n",
       "        <td id=\"T_bff181a2_46f2_11e9_87f7_08780897b37drow28_col9\" class=\"data row28 col9\" >Sabretooth Has Amber Color Eyes And Blond Hair</td> \n",
       "    </tr>    <tr> \n",
       "        <th id=\"T_bff181a2_46f2_11e9_87f7_08780897b37dlevel0_row29\" class=\"row_heading level0 row29\" >29</th> \n",
       "        <td id=\"T_bff181a2_46f2_11e9_87f7_08780897b37drow29_col0\" class=\"data row29 col0\" >30</td> \n",
       "        <td id=\"T_bff181a2_46f2_11e9_87f7_08780897b37drow29_col1\" class=\"data row29 col1\" >Spider-Girl</td> \n",
       "        <td id=\"T_bff181a2_46f2_11e9_87f7_08780897b37drow29_col2\" class=\"data row29 col2\" >Female</td> \n",
       "        <td id=\"T_bff181a2_46f2_11e9_87f7_08780897b37drow29_col3\" class=\"data row29 col3\" >blue</td> \n",
       "        <td id=\"T_bff181a2_46f2_11e9_87f7_08780897b37drow29_col4\" class=\"data row29 col4\" >Brown</td> \n",
       "        <td id=\"T_bff181a2_46f2_11e9_87f7_08780897b37drow29_col5\" class=\"data row29 col5\" >170</td> \n",
       "        <td id=\"T_bff181a2_46f2_11e9_87f7_08780897b37drow29_col6\" class=\"data row29 col6\" >good</td> \n",
       "        <td id=\"T_bff181a2_46f2_11e9_87f7_08780897b37drow29_col7\" class=\"data row29 col7\" >54</td> \n",
       "        <td id=\"T_bff181a2_46f2_11e9_87f7_08780897b37drow29_col8\" class=\"data row29 col8\" >Below average height</td> \n",
       "        <td id=\"T_bff181a2_46f2_11e9_87f7_08780897b37drow29_col9\" class=\"data row29 col9\" >Spider-Girl Has Blue Color Eyes And Brown Hair</td> \n",
       "    </tr>    <tr> \n",
       "        <th id=\"T_bff181a2_46f2_11e9_87f7_08780897b37dlevel0_row30\" class=\"row_heading level0 row30\" >30</th> \n",
       "        <td id=\"T_bff181a2_46f2_11e9_87f7_08780897b37drow30_col0\" class=\"data row30 col0\" >31</td> \n",
       "        <td id=\"T_bff181a2_46f2_11e9_87f7_08780897b37drow30_col1\" class=\"data row30 col1\" >Supergirl</td> \n",
       "        <td id=\"T_bff181a2_46f2_11e9_87f7_08780897b37drow30_col2\" class=\"data row30 col2\" >Female</td> \n",
       "        <td id=\"T_bff181a2_46f2_11e9_87f7_08780897b37drow30_col3\" class=\"data row30 col3\" >blue</td> \n",
       "        <td id=\"T_bff181a2_46f2_11e9_87f7_08780897b37drow30_col4\" class=\"data row30 col4\" >Blond</td> \n",
       "        <td id=\"T_bff181a2_46f2_11e9_87f7_08780897b37drow30_col5\" class=\"data row30 col5\" >165</td> \n",
       "        <td id=\"T_bff181a2_46f2_11e9_87f7_08780897b37drow30_col6\" class=\"data row30 col6\" >good</td> \n",
       "        <td id=\"T_bff181a2_46f2_11e9_87f7_08780897b37drow30_col7\" class=\"data row30 col7\" >54</td> \n",
       "        <td id=\"T_bff181a2_46f2_11e9_87f7_08780897b37drow30_col8\" class=\"data row30 col8\" >Below average height</td> \n",
       "        <td id=\"T_bff181a2_46f2_11e9_87f7_08780897b37drow30_col9\" class=\"data row30 col9\" >Supergirl Has Blue Color Eyes And Blond Hair</td> \n",
       "    </tr>    <tr> \n",
       "        <th id=\"T_bff181a2_46f2_11e9_87f7_08780897b37dlevel0_row31\" class=\"row_heading level0 row31\" >31</th> \n",
       "        <td id=\"T_bff181a2_46f2_11e9_87f7_08780897b37drow31_col0\" class=\"data row31 col0\" >32</td> \n",
       "        <td id=\"T_bff181a2_46f2_11e9_87f7_08780897b37drow31_col1\" class=\"data row31 col1\" >Superman</td> \n",
       "        <td id=\"T_bff181a2_46f2_11e9_87f7_08780897b37drow31_col2\" class=\"data row31 col2\" >Male</td> \n",
       "        <td id=\"T_bff181a2_46f2_11e9_87f7_08780897b37drow31_col3\" class=\"data row31 col3\" >blue</td> \n",
       "        <td id=\"T_bff181a2_46f2_11e9_87f7_08780897b37drow31_col4\" class=\"data row31 col4\" >Black</td> \n",
       "        <td id=\"T_bff181a2_46f2_11e9_87f7_08780897b37drow31_col5\" class=\"data row31 col5\" >191</td> \n",
       "        <td id=\"T_bff181a2_46f2_11e9_87f7_08780897b37drow31_col6\" class=\"data row31 col6\" >good</td> \n",
       "        <td id=\"T_bff181a2_46f2_11e9_87f7_08780897b37drow31_col7\" class=\"data row31 col7\" >101</td> \n",
       "        <td id=\"T_bff181a2_46f2_11e9_87f7_08780897b37drow31_col8\" class=\"data row31 col8\" >Below average height</td> \n",
       "        <td id=\"T_bff181a2_46f2_11e9_87f7_08780897b37drow31_col9\" class=\"data row31 col9\" >Superman Has Blue Color Eyes And Black Hair</td> \n",
       "    </tr>    <tr> \n",
       "        <th id=\"T_bff181a2_46f2_11e9_87f7_08780897b37dlevel0_row32\" class=\"row_heading level0 row32\" >32</th> \n",
       "        <td id=\"T_bff181a2_46f2_11e9_87f7_08780897b37drow32_col0\" class=\"data row32 col0\" >33</td> \n",
       "        <td id=\"T_bff181a2_46f2_11e9_87f7_08780897b37drow32_col1\" class=\"data row32 col1\" >Thor</td> \n",
       "        <td id=\"T_bff181a2_46f2_11e9_87f7_08780897b37drow32_col2\" class=\"data row32 col2\" >Male</td> \n",
       "        <td id=\"T_bff181a2_46f2_11e9_87f7_08780897b37drow32_col3\" class=\"data row32 col3\" >blue</td> \n",
       "        <td id=\"T_bff181a2_46f2_11e9_87f7_08780897b37drow32_col4\" class=\"data row32 col4\" >Blond</td> \n",
       "        <td id=\"T_bff181a2_46f2_11e9_87f7_08780897b37drow32_col5\" class=\"data row32 col5\" >198</td> \n",
       "        <td id=\"T_bff181a2_46f2_11e9_87f7_08780897b37drow32_col6\" class=\"data row32 col6\" >good</td> \n",
       "        <td id=\"T_bff181a2_46f2_11e9_87f7_08780897b37drow32_col7\" class=\"data row32 col7\" >288</td> \n",
       "        <td id=\"T_bff181a2_46f2_11e9_87f7_08780897b37drow32_col8\" class=\"data row32 col8\" >Below average height</td> \n",
       "        <td id=\"T_bff181a2_46f2_11e9_87f7_08780897b37drow32_col9\" class=\"data row32 col9\" >Thor Has Blue Color Eyes And Blond Hair</td> \n",
       "    </tr>    <tr> \n",
       "        <th id=\"T_bff181a2_46f2_11e9_87f7_08780897b37dlevel0_row33\" class=\"row_heading level0 row33\" >33</th> \n",
       "        <td id=\"T_bff181a2_46f2_11e9_87f7_08780897b37drow33_col0\" class=\"data row33 col0\" >34</td> \n",
       "        <td id=\"T_bff181a2_46f2_11e9_87f7_08780897b37drow33_col1\" class=\"data row33 col1\" >Ultron</td> \n",
       "        <td id=\"T_bff181a2_46f2_11e9_87f7_08780897b37drow33_col2\" class=\"data row33 col2\" >Male</td> \n",
       "        <td id=\"T_bff181a2_46f2_11e9_87f7_08780897b37drow33_col3\" class=\"data row33 col3\" >red</td> \n",
       "        <td id=\"T_bff181a2_46f2_11e9_87f7_08780897b37drow33_col4\" class=\"data row33 col4\" >-</td> \n",
       "        <td id=\"T_bff181a2_46f2_11e9_87f7_08780897b37drow33_col5\" class=\"data row33 col5\" >206</td> \n",
       "        <td id=\"T_bff181a2_46f2_11e9_87f7_08780897b37drow33_col6\" class=\"data row33 col6\" >bad</td> \n",
       "        <td id=\"T_bff181a2_46f2_11e9_87f7_08780897b37drow33_col7\" class=\"data row33 col7\" >331</td> \n",
       "        <td id=\"T_bff181a2_46f2_11e9_87f7_08780897b37drow33_col8\" class=\"data row33 col8\" >Above average height</td> \n",
       "        <td id=\"T_bff181a2_46f2_11e9_87f7_08780897b37drow33_col9\" class=\"data row33 col9\" >Ultron Has Red Color Eyes And - Hair</td> \n",
       "    </tr>    <tr> \n",
       "        <th id=\"T_bff181a2_46f2_11e9_87f7_08780897b37dlevel0_row34\" class=\"row_heading level0 row34\" >34</th> \n",
       "        <td id=\"T_bff181a2_46f2_11e9_87f7_08780897b37drow34_col0\" class=\"data row34 col0\" >35</td> \n",
       "        <td id=\"T_bff181a2_46f2_11e9_87f7_08780897b37drow34_col1\" class=\"data row34 col1\" >Venom</td> \n",
       "        <td id=\"T_bff181a2_46f2_11e9_87f7_08780897b37drow34_col2\" class=\"data row34 col2\" >Male</td> \n",
       "        <td id=\"T_bff181a2_46f2_11e9_87f7_08780897b37drow34_col3\" class=\"data row34 col3\" >blue</td> \n",
       "        <td id=\"T_bff181a2_46f2_11e9_87f7_08780897b37drow34_col4\" class=\"data row34 col4\" >Strawberry Blond</td> \n",
       "        <td id=\"T_bff181a2_46f2_11e9_87f7_08780897b37drow34_col5\" class=\"data row34 col5\" >191</td> \n",
       "        <td id=\"T_bff181a2_46f2_11e9_87f7_08780897b37drow34_col6\" class=\"data row34 col6\" >bad</td> \n",
       "        <td id=\"T_bff181a2_46f2_11e9_87f7_08780897b37drow34_col7\" class=\"data row34 col7\" >117</td> \n",
       "        <td id=\"T_bff181a2_46f2_11e9_87f7_08780897b37drow34_col8\" class=\"data row34 col8\" >Below average height</td> \n",
       "        <td id=\"T_bff181a2_46f2_11e9_87f7_08780897b37drow34_col9\" class=\"data row34 col9\" >Venom Has Blue Color Eyes And Strawberry Blond Hair</td> \n",
       "    </tr>    <tr> \n",
       "        <th id=\"T_bff181a2_46f2_11e9_87f7_08780897b37dlevel0_row35\" class=\"row_heading level0 row35\" >35</th> \n",
       "        <td id=\"T_bff181a2_46f2_11e9_87f7_08780897b37drow35_col0\" class=\"data row35 col0\" >36</td> \n",
       "        <td id=\"T_bff181a2_46f2_11e9_87f7_08780897b37drow35_col1\" class=\"data row35 col1\" >Wonder Woman</td> \n",
       "        <td id=\"T_bff181a2_46f2_11e9_87f7_08780897b37drow35_col2\" class=\"data row35 col2\" >Female</td> \n",
       "        <td id=\"T_bff181a2_46f2_11e9_87f7_08780897b37drow35_col3\" class=\"data row35 col3\" >blue</td> \n",
       "        <td id=\"T_bff181a2_46f2_11e9_87f7_08780897b37drow35_col4\" class=\"data row35 col4\" >Black</td> \n",
       "        <td id=\"T_bff181a2_46f2_11e9_87f7_08780897b37drow35_col5\" class=\"data row35 col5\" >183</td> \n",
       "        <td id=\"T_bff181a2_46f2_11e9_87f7_08780897b37drow35_col6\" class=\"data row35 col6\" >good</td> \n",
       "        <td id=\"T_bff181a2_46f2_11e9_87f7_08780897b37drow35_col7\" class=\"data row35 col7\" >74</td> \n",
       "        <td id=\"T_bff181a2_46f2_11e9_87f7_08780897b37drow35_col8\" class=\"data row35 col8\" >Below average height</td> \n",
       "        <td id=\"T_bff181a2_46f2_11e9_87f7_08780897b37drow35_col9\" class=\"data row35 col9\" >Wonder Woman Has Blue Color Eyes And Black Hair</td> \n",
       "    </tr></tbody> \n",
       "</table> "
      ],
      "text/plain": [
       "<pandas.io.formats.style.Styler at 0x1412517c400>"
      ]
     },
     "execution_count": 22,
     "metadata": {},
     "output_type": "execute_result"
    }
   ],
   "source": [
    "def color_negative_red(value):\n",
    "\n",
    "  if value == 'bad':\n",
    "    color = 'red'\n",
    "  elif value == 'good':\n",
    "    color = 'green'\n",
    "  else:\n",
    "    color = 'black'\n",
    "\n",
    "  return 'color: %s' % color\n",
    "\n",
    "heroes.style.applymap(color_negative_red, subset=['Alignment'])"
   ]
  },
  {
   "cell_type": "code",
   "execution_count": 23,
   "metadata": {},
   "outputs": [
    {
     "data": {
      "text/html": [
       "<div>\n",
       "<style scoped>\n",
       "    .dataframe tbody tr th:only-of-type {\n",
       "        vertical-align: middle;\n",
       "    }\n",
       "\n",
       "    .dataframe tbody tr th {\n",
       "        vertical-align: top;\n",
       "    }\n",
       "\n",
       "    .dataframe thead tr th {\n",
       "        text-align: left;\n",
       "    }\n",
       "\n",
       "    .dataframe thead tr:last-of-type th {\n",
       "        text-align: right;\n",
       "    }\n",
       "</style>\n",
       "<table border=\"1\" class=\"dataframe\">\n",
       "  <thead>\n",
       "    <tr>\n",
       "      <th></th>\n",
       "      <th colspan=\"2\" halign=\"left\">Height</th>\n",
       "      <th colspan=\"2\" halign=\"left\">Weight</th>\n",
       "    </tr>\n",
       "    <tr>\n",
       "      <th>Gender</th>\n",
       "      <th>Female</th>\n",
       "      <th>Male</th>\n",
       "      <th>Female</th>\n",
       "      <th>Male</th>\n",
       "    </tr>\n",
       "    <tr>\n",
       "      <th>Alignment</th>\n",
       "      <th></th>\n",
       "      <th></th>\n",
       "      <th></th>\n",
       "      <th></th>\n",
       "    </tr>\n",
       "  </thead>\n",
       "  <tbody>\n",
       "    <tr>\n",
       "      <th>bad</th>\n",
       "      <td>168.0</td>\n",
       "      <td>195.466667</td>\n",
       "      <td>50.0</td>\n",
       "      <td>160.000000</td>\n",
       "    </tr>\n",
       "    <tr>\n",
       "      <th>good</th>\n",
       "      <td>171.6</td>\n",
       "      <td>220.714286</td>\n",
       "      <td>59.6</td>\n",
       "      <td>103.285714</td>\n",
       "    </tr>\n",
       "    <tr>\n",
       "      <th>neutral</th>\n",
       "      <td>NaN</td>\n",
       "      <td>188.000000</td>\n",
       "      <td>NaN</td>\n",
       "      <td>95.000000</td>\n",
       "    </tr>\n",
       "  </tbody>\n",
       "</table>\n",
       "</div>"
      ],
      "text/plain": [
       "          Height             Weight            \n",
       "Gender    Female        Male Female        Male\n",
       "Alignment                                      \n",
       "bad        168.0  195.466667   50.0  160.000000\n",
       "good       171.6  220.714286   59.6  103.285714\n",
       "neutral      NaN  188.000000    NaN   95.000000"
      ]
     },
     "execution_count": 23,
     "metadata": {},
     "output_type": "execute_result"
    }
   ],
   "source": [
    "import numpy as np\n",
    "pd.pivot_table(heroes, index = ['Alignment'], columns = ['Gender'], values = ['Height', 'Weight'], aggfunc = np.mean)"
   ]
  },
  {
   "cell_type": "code",
   "execution_count": 24,
   "metadata": {},
   "outputs": [
    {
     "name": "stdout",
     "output_type": "stream",
     "text": [
      "188\n"
     ]
    }
   ],
   "source": [
    "print(heroes.at[heroes.loc[heroes['name'] == 'Batman'].index[0],'Height'])"
   ]
  }
 ],
 "metadata": {
  "kernelspec": {
   "display_name": "Python 3",
   "language": "python",
   "name": "python3"
  },
  "language_info": {
   "codemirror_mode": {
    "name": "ipython",
    "version": 3
   },
   "file_extension": ".py",
   "mimetype": "text/x-python",
   "name": "python",
   "nbconvert_exporter": "python",
   "pygments_lexer": "ipython3",
   "version": "3.7.1"
  }
 },
 "nbformat": 4,
 "nbformat_minor": 2
}
